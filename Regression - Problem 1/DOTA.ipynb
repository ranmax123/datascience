{
 "cells": [
  {
   "cell_type": "code",
   "execution_count": 1,
   "metadata": {},
   "outputs": [],
   "source": [
    "import numpy as np\n",
    "import pandas as pd\n",
    "import matplotlib.pyplot as plt\n",
    "%matplotlib inline"
   ]
  },
  {
   "cell_type": "code",
   "execution_count": 2,
   "metadata": {},
   "outputs": [],
   "source": [
    "t = 0"
   ]
  },
  {
   "cell_type": "code",
   "execution_count": 3,
   "metadata": {},
   "outputs": [],
   "source": [
    "if t == 1:\n",
    "    df_t_9 = pd.read_csv(\"test9.csv\", index_col='id')\n",
    "else:\n",
    "    df_t_9 = pd.read_csv(\"train9.csv\", index_col='id')"
   ]
  },
  {
   "cell_type": "code",
   "execution_count": 4,
   "metadata": {},
   "outputs": [
    {
     "data": {
      "text/html": [
       "<div>\n",
       "<style scoped>\n",
       "    .dataframe tbody tr th:only-of-type {\n",
       "        vertical-align: middle;\n",
       "    }\n",
       "\n",
       "    .dataframe tbody tr th {\n",
       "        vertical-align: top;\n",
       "    }\n",
       "\n",
       "    .dataframe thead th {\n",
       "        text-align: right;\n",
       "    }\n",
       "</style>\n",
       "<table border=\"1\" class=\"dataframe\">\n",
       "  <thead>\n",
       "    <tr style=\"text-align: right;\">\n",
       "      <th></th>\n",
       "      <th>user_id</th>\n",
       "      <th>hero_id</th>\n",
       "      <th>num_games</th>\n",
       "      <th>num_wins</th>\n",
       "      <th>kda_ratio</th>\n",
       "    </tr>\n",
       "    <tr>\n",
       "      <th>id</th>\n",
       "      <th></th>\n",
       "      <th></th>\n",
       "      <th></th>\n",
       "      <th></th>\n",
       "      <th></th>\n",
       "    </tr>\n",
       "  </thead>\n",
       "  <tbody>\n",
       "    <tr>\n",
       "      <th>1_74</th>\n",
       "      <td>1</td>\n",
       "      <td>74</td>\n",
       "      <td>304</td>\n",
       "      <td>185</td>\n",
       "      <td>3743.699732</td>\n",
       "    </tr>\n",
       "    <tr>\n",
       "      <th>1_65</th>\n",
       "      <td>1</td>\n",
       "      <td>65</td>\n",
       "      <td>255</td>\n",
       "      <td>151</td>\n",
       "      <td>4009.021513</td>\n",
       "    </tr>\n",
       "    <tr>\n",
       "      <th>1_39</th>\n",
       "      <td>1</td>\n",
       "      <td>39</td>\n",
       "      <td>203</td>\n",
       "      <td>135</td>\n",
       "      <td>5094.621514</td>\n",
       "    </tr>\n",
       "    <tr>\n",
       "      <th>1_106</th>\n",
       "      <td>1</td>\n",
       "      <td>106</td>\n",
       "      <td>158</td>\n",
       "      <td>106</td>\n",
       "      <td>4619.212963</td>\n",
       "    </tr>\n",
       "    <tr>\n",
       "      <th>1_2</th>\n",
       "      <td>1</td>\n",
       "      <td>2</td>\n",
       "      <td>157</td>\n",
       "      <td>94</td>\n",
       "      <td>2871.627907</td>\n",
       "    </tr>\n",
       "  </tbody>\n",
       "</table>\n",
       "</div>"
      ],
      "text/plain": [
       "       user_id  hero_id  num_games  num_wins    kda_ratio\n",
       "id                                                       \n",
       "1_74         1       74        304       185  3743.699732\n",
       "1_65         1       65        255       151  4009.021513\n",
       "1_39         1       39        203       135  5094.621514\n",
       "1_106        1      106        158       106  4619.212963\n",
       "1_2          1        2        157        94  2871.627907"
      ]
     },
     "execution_count": 4,
     "metadata": {},
     "output_type": "execute_result"
    }
   ],
   "source": [
    "df_t_9.head()"
   ]
  },
  {
   "cell_type": "code",
   "execution_count": 5,
   "metadata": {},
   "outputs": [],
   "source": [
    "if t == 1:\n",
    "    df_t_1 = pd.read_csv(\"test1.csv\", index_col='id')\n",
    "else:\n",
    "    df_t_1 = pd.read_csv(\"train1.csv\", index_col='id')"
   ]
  },
  {
   "cell_type": "code",
   "execution_count": 6,
   "metadata": {},
   "outputs": [
    {
     "data": {
      "text/html": [
       "<div>\n",
       "<style scoped>\n",
       "    .dataframe tbody tr th:only-of-type {\n",
       "        vertical-align: middle;\n",
       "    }\n",
       "\n",
       "    .dataframe tbody tr th {\n",
       "        vertical-align: top;\n",
       "    }\n",
       "\n",
       "    .dataframe thead th {\n",
       "        text-align: right;\n",
       "    }\n",
       "</style>\n",
       "<table border=\"1\" class=\"dataframe\">\n",
       "  <thead>\n",
       "    <tr style=\"text-align: right;\">\n",
       "      <th></th>\n",
       "      <th>user_id</th>\n",
       "      <th>hero_id</th>\n",
       "      <th>num_games</th>\n",
       "      <th>num_wins</th>\n",
       "      <th>kda_ratio</th>\n",
       "    </tr>\n",
       "    <tr>\n",
       "      <th>id</th>\n",
       "      <th></th>\n",
       "      <th></th>\n",
       "      <th></th>\n",
       "      <th></th>\n",
       "      <th></th>\n",
       "    </tr>\n",
       "  </thead>\n",
       "  <tbody>\n",
       "    <tr>\n",
       "      <th>1_41</th>\n",
       "      <td>1</td>\n",
       "      <td>41</td>\n",
       "      <td>201</td>\n",
       "      <td>125</td>\n",
       "      <td>3731.707317</td>\n",
       "    </tr>\n",
       "    <tr>\n",
       "      <th>2_17</th>\n",
       "      <td>2</td>\n",
       "      <td>17</td>\n",
       "      <td>427</td>\n",
       "      <td>234</td>\n",
       "      <td>2922.058381</td>\n",
       "    </tr>\n",
       "    <tr>\n",
       "      <th>5_106</th>\n",
       "      <td>5</td>\n",
       "      <td>106</td>\n",
       "      <td>240</td>\n",
       "      <td>130</td>\n",
       "      <td>5116.682739</td>\n",
       "    </tr>\n",
       "    <tr>\n",
       "      <th>6_65</th>\n",
       "      <td>6</td>\n",
       "      <td>65</td>\n",
       "      <td>206</td>\n",
       "      <td>122</td>\n",
       "      <td>4131.553861</td>\n",
       "    </tr>\n",
       "    <tr>\n",
       "      <th>7_69</th>\n",
       "      <td>7</td>\n",
       "      <td>69</td>\n",
       "      <td>697</td>\n",
       "      <td>382</td>\n",
       "      <td>2474.469306</td>\n",
       "    </tr>\n",
       "  </tbody>\n",
       "</table>\n",
       "</div>"
      ],
      "text/plain": [
       "       user_id  hero_id  num_games  num_wins    kda_ratio\n",
       "id                                                       \n",
       "1_41         1       41        201       125  3731.707317\n",
       "2_17         2       17        427       234  2922.058381\n",
       "5_106        5      106        240       130  5116.682739\n",
       "6_65         6       65        206       122  4131.553861\n",
       "7_69         7       69        697       382  2474.469306"
      ]
     },
     "execution_count": 6,
     "metadata": {},
     "output_type": "execute_result"
    }
   ],
   "source": [
    "df_t_1.head()"
   ]
  },
  {
   "cell_type": "code",
   "execution_count": 7,
   "metadata": {},
   "outputs": [],
   "source": [
    "df_hero = pd.read_csv(\"hero_data.csv\")"
   ]
  },
  {
   "cell_type": "code",
   "execution_count": 8,
   "metadata": {},
   "outputs": [],
   "source": [
    "df_t_9_merged = pd.merge(right=df_hero, left=df_t_9, on='hero_id', how='inner', sort=False)"
   ]
  },
  {
   "cell_type": "code",
   "execution_count": 9,
   "metadata": {},
   "outputs": [],
   "source": [
    "df_t_1_merged = pd.merge(right=df_hero, left=df_t_1, on='hero_id', how='inner', sort=False)"
   ]
  },
  {
   "cell_type": "code",
   "execution_count": 10,
   "metadata": {},
   "outputs": [],
   "source": [
    "df_t_9_num = df_t_9_merged.drop(['user_id','hero_id','primary_attr','attack_type', 'roles','kda_ratio','num_wins'], axis=1 )"
   ]
  },
  {
   "cell_type": "code",
   "execution_count": 11,
   "metadata": {},
   "outputs": [],
   "source": [
    "df_t_1_num = df_t_1_merged.drop(['user_id','hero_id','primary_attr','attack_type', 'roles','kda_ratio','num_wins'], axis=1 )"
   ]
  },
  {
   "cell_type": "code",
   "execution_count": 12,
   "metadata": {},
   "outputs": [],
   "source": [
    "from sklearn.preprocessing import MinMaxScaler"
   ]
  },
  {
   "cell_type": "code",
   "execution_count": 13,
   "metadata": {},
   "outputs": [],
   "source": [
    "scaler = MinMaxScaler()"
   ]
  },
  {
   "cell_type": "code",
   "execution_count": 14,
   "metadata": {},
   "outputs": [],
   "source": [
    "scaled_df_t_9_num = scaler.fit_transform(df_t_9_num)\n",
    "scaled_df_t_1_num = scaler.transform(df_t_1_num)"
   ]
  },
  {
   "cell_type": "code",
   "execution_count": 15,
   "metadata": {},
   "outputs": [],
   "source": [
    "y_train = df_t_9_merged['kda_ratio']\n",
    "y_test = df_t_1_merged['kda_ratio']"
   ]
  },
  {
   "cell_type": "code",
   "execution_count": 16,
   "metadata": {},
   "outputs": [],
   "source": [
    "df_scaled_df_t_9_num = pd.DataFrame(data=scaled_df_t_9_num,columns = df_t_9_num.columns,index=df_t_9_num.index)"
   ]
  },
  {
   "cell_type": "code",
   "execution_count": 17,
   "metadata": {},
   "outputs": [],
   "source": [
    "df_scaled_df_t_1_num = pd.DataFrame(data=scaled_df_t_1_num,columns = df_t_1_num.columns,index=df_t_1_num.index)"
   ]
  },
  {
   "cell_type": "code",
   "execution_count": 18,
   "metadata": {},
   "outputs": [],
   "source": [
    "X_train = pd.concat([df_t_9_merged[['user_id','hero_id','primary_attr','attack_type', 'roles']], df_scaled_df_t_9_num], axis=1)"
   ]
  },
  {
   "cell_type": "code",
   "execution_count": 19,
   "metadata": {},
   "outputs": [],
   "source": [
    "X_test = pd.concat([df_t_1_merged[['user_id','hero_id','primary_attr','attack_type', 'roles']], df_scaled_df_t_1_num], axis=1)"
   ]
  },
  {
   "cell_type": "code",
   "execution_count": null,
   "metadata": {},
   "outputs": [],
   "source": []
  },
  {
   "cell_type": "code",
   "execution_count": 20,
   "metadata": {},
   "outputs": [],
   "source": [
    "import tensorflow as tf"
   ]
  },
  {
   "cell_type": "code",
   "execution_count": 21,
   "metadata": {},
   "outputs": [],
   "source": [
    "primary_attr = tf.feature_column.categorical_column_with_vocabulary_list(\"primary_attr\", [\"int\", \"agi\", \"str\"])\n",
    "attack_type = tf.feature_column.categorical_column_with_vocabulary_list(\"attack_type\", [\"Ranged\", \"Melee\"])\n",
    "roles = tf.feature_column.categorical_column_with_hash_bucket(\"roles\", hash_bucket_size=1000)\n",
    "hero_id = tf.feature_column.categorical_column_with_identity(\"hero_id\", num_buckets=150)\n",
    "user_id = tf.feature_column.categorical_column_with_identity(\"user_id\", num_buckets=5000)"
   ]
  },
  {
   "cell_type": "code",
   "execution_count": 22,
   "metadata": {},
   "outputs": [],
   "source": [
    "primary_attr_e = tf.feature_column.embedding_column(primary_attr, dimension=3)\n",
    "attack_type_e = tf.feature_column.embedding_column(attack_type, dimension=2)\n",
    "roles_e = tf.feature_column.embedding_column(roles, dimension=1000)\n",
    "hero_id_e = tf.feature_column.embedding_column(hero_id, dimension=150)\n",
    "user_id_e = tf.feature_column.embedding_column(user_id, dimension=5000)"
   ]
  },
  {
   "cell_type": "code",
   "execution_count": null,
   "metadata": {},
   "outputs": [],
   "source": []
  },
  {
   "cell_type": "code",
   "execution_count": 23,
   "metadata": {},
   "outputs": [],
   "source": [
    "feat_col = []\n",
    "\n",
    "for col in df_t_9_num.columns:\n",
    "    feat_col.append(tf.feature_column.numeric_column(col))"
   ]
  },
  {
   "cell_type": "code",
   "execution_count": 24,
   "metadata": {},
   "outputs": [],
   "source": [
    "feat_col.append(primary_attr_e)\n",
    "feat_col.append(attack_type_e)\n",
    "feat_col.append(hero_id_e)\n",
    "feat_col.append(roles_e)\n",
    "feat_col.append(user_id_e)"
   ]
  },
  {
   "cell_type": "code",
   "execution_count": 81,
   "metadata": {},
   "outputs": [],
   "source": [
    "input_fn = tf.estimator.inputs.pandas_input_fn(x=X_train, y=y_train, shuffle=True, num_epochs=10, batch_size=100)"
   ]
  },
  {
   "cell_type": "code",
   "execution_count": 82,
   "metadata": {},
   "outputs": [
    {
     "name": "stdout",
     "output_type": "stream",
     "text": [
      "INFO:tensorflow:Using default config.\n",
      "WARNING:tensorflow:Using temporary folder as model directory: C:\\Users\\RANBEE~1\\AppData\\Local\\Temp\\tmpnmp6wq30\n",
      "INFO:tensorflow:Using config: {'_model_dir': 'C:\\\\Users\\\\RANBEE~1\\\\AppData\\\\Local\\\\Temp\\\\tmpnmp6wq30', '_tf_random_seed': None, '_save_summary_steps': 100, '_save_checkpoints_steps': None, '_save_checkpoints_secs': 600, '_session_config': None, '_keep_checkpoint_max': 5, '_keep_checkpoint_every_n_hours': 10000, '_log_step_count_steps': 100, '_service': None, '_cluster_spec': <tensorflow.python.training.server_lib.ClusterSpec object at 0x000001DE11D11A90>, '_task_type': 'worker', '_task_id': 0, '_master': '', '_is_chief': True, '_num_ps_replicas': 0, '_num_worker_replicas': 1}\n"
     ]
    }
   ],
   "source": [
    "model = tf.estimator.DNNRegressor(hidden_units=[6], \n",
    "                                  feature_columns=feat_col\n",
    "                                  \n",
    "                                )"
   ]
  },
  {
   "cell_type": "code",
   "execution_count": null,
   "metadata": {},
   "outputs": [],
   "source": []
  },
  {
   "cell_type": "code",
   "execution_count": 83,
   "metadata": {},
   "outputs": [
    {
     "name": "stdout",
     "output_type": "stream",
     "text": [
      "INFO:tensorflow:Create CheckpointSaverHook.\n",
      "INFO:tensorflow:Saving checkpoints for 1 into C:\\Users\\RANBEE~1\\AppData\\Local\\Temp\\tmpnmp6wq30\\model.ckpt.\n",
      "INFO:tensorflow:loss = 1.17538e+09, step = 1\n",
      "INFO:tensorflow:global_step/sec: 24.783\n",
      "INFO:tensorflow:loss = 1.19267e+08, step = 101 (4.039 sec)\n",
      "INFO:tensorflow:global_step/sec: 27.5818\n",
      "INFO:tensorflow:loss = 7.82882e+07, step = 201 (3.637 sec)\n",
      "INFO:tensorflow:global_step/sec: 26.0747\n",
      "INFO:tensorflow:loss = 4.90058e+07, step = 301 (3.821 sec)\n",
      "INFO:tensorflow:global_step/sec: 28.7355\n",
      "INFO:tensorflow:loss = 5.66839e+07, step = 401 (3.483 sec)\n",
      "INFO:tensorflow:global_step/sec: 26.68\n",
      "INFO:tensorflow:loss = 4.59795e+07, step = 501 (3.750 sec)\n",
      "INFO:tensorflow:global_step/sec: 27.1354\n",
      "INFO:tensorflow:loss = 5.17421e+07, step = 601 (3.679 sec)\n",
      "INFO:tensorflow:global_step/sec: 27.6341\n",
      "INFO:tensorflow:loss = 5.1971e+07, step = 701 (3.623 sec)\n",
      "INFO:tensorflow:global_step/sec: 27.1786\n",
      "INFO:tensorflow:loss = 3.39426e+07, step = 801 (3.683 sec)\n",
      "INFO:tensorflow:global_step/sec: 25.1874\n",
      "INFO:tensorflow:loss = 3.11701e+07, step = 901 (3.977 sec)\n",
      "INFO:tensorflow:global_step/sec: 25.0566\n",
      "INFO:tensorflow:loss = 2.88882e+07, step = 1001 (3.992 sec)\n",
      "INFO:tensorflow:global_step/sec: 25.0626\n",
      "INFO:tensorflow:loss = 3.37291e+07, step = 1101 (3.981 sec)\n",
      "INFO:tensorflow:global_step/sec: 25.1152\n",
      "INFO:tensorflow:loss = 2.53754e+07, step = 1201 (3.982 sec)\n",
      "INFO:tensorflow:global_step/sec: 25.2518\n",
      "INFO:tensorflow:loss = 2.34607e+07, step = 1301 (3.966 sec)\n",
      "INFO:tensorflow:global_step/sec: 27.7376\n",
      "INFO:tensorflow:loss = 2.13795e+07, step = 1401 (3.595 sec)\n",
      "INFO:tensorflow:global_step/sec: 29.1406\n",
      "INFO:tensorflow:loss = 3.61335e+07, step = 1501 (3.430 sec)\n",
      "INFO:tensorflow:global_step/sec: 27.3845\n",
      "INFO:tensorflow:loss = 4.14754e+07, step = 1601 (3.657 sec)\n",
      "INFO:tensorflow:global_step/sec: 27.7577\n",
      "INFO:tensorflow:loss = 3.58722e+07, step = 1701 (3.611 sec)\n",
      "INFO:tensorflow:global_step/sec: 26.6927\n",
      "INFO:tensorflow:loss = 3.28067e+07, step = 1801 (3.737 sec)\n",
      "INFO:tensorflow:Saving checkpoints for 1885 into C:\\Users\\RANBEE~1\\AppData\\Local\\Temp\\tmpnmp6wq30\\model.ckpt.\n",
      "INFO:tensorflow:Loss for final step: 9.92723e+06.\n"
     ]
    },
    {
     "data": {
      "text/plain": [
       "<tensorflow.python.estimator.canned.dnn.DNNRegressor at 0x1de015bb1d0>"
      ]
     },
     "execution_count": 83,
     "metadata": {},
     "output_type": "execute_result"
    }
   ],
   "source": [
    "model.train(input_fn=input_fn, steps=4000)"
   ]
  },
  {
   "cell_type": "code",
   "execution_count": 84,
   "metadata": {},
   "outputs": [],
   "source": [
    "pred_fn = tf.estimator.inputs.pandas_input_fn(x=X_test, shuffle=False, num_epochs=1, batch_size=len(X_test))\n",
    "                                       "
   ]
  },
  {
   "cell_type": "code",
   "execution_count": 85,
   "metadata": {},
   "outputs": [
    {
     "name": "stdout",
     "output_type": "stream",
     "text": [
      "INFO:tensorflow:Restoring parameters from C:\\Users\\RANBEE~1\\AppData\\Local\\Temp\\tmpnmp6wq30\\model.ckpt-1885\n"
     ]
    }
   ],
   "source": [
    "predictions = list(model.predict(input_fn=pred_fn))"
   ]
  },
  {
   "cell_type": "code",
   "execution_count": 86,
   "metadata": {},
   "outputs": [],
   "source": [
    "final_pred = []\n",
    "for pred in predictions:\n",
    "    final_pred.append(pred['predictions'][0])"
   ]
  },
  {
   "cell_type": "code",
   "execution_count": 87,
   "metadata": {},
   "outputs": [
    {
     "name": "stdout",
     "output_type": "stream",
     "text": [
      "572.739195397\n"
     ]
    }
   ],
   "source": [
    "from sklearn.metrics import mean_squared_error\n",
    "if t == 1:\n",
    "    X_test['kda_ratio'] = final_pred\n",
    "    X_test.to_csv(\".sub.csv\")\n",
    "else:\n",
    "    print(mean_squared_error(y_test, final_pred)**0.5)"
   ]
  },
  {
   "cell_type": "code",
   "execution_count": null,
   "metadata": {},
   "outputs": [],
   "source": []
  },
  {
   "cell_type": "code",
   "execution_count": null,
   "metadata": {},
   "outputs": [],
   "source": []
  },
  {
   "cell_type": "code",
   "execution_count": null,
   "metadata": {},
   "outputs": [],
   "source": []
  }
 ],
 "metadata": {
  "kernelspec": {
   "display_name": "Python 3",
   "language": "python",
   "name": "python3"
  },
  "language_info": {
   "codemirror_mode": {
    "name": "ipython",
    "version": 3
   },
   "file_extension": ".py",
   "mimetype": "text/x-python",
   "name": "python",
   "nbconvert_exporter": "python",
   "pygments_lexer": "ipython3",
   "version": "3.6.3"
  }
 },
 "nbformat": 4,
 "nbformat_minor": 2
}
