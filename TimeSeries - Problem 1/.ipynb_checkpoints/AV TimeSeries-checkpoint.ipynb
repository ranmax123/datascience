{
 "cells": [
  {
   "cell_type": "code",
   "execution_count": 1,
   "metadata": {},
   "outputs": [],
   "source": [
    "import numpy as np\n",
    "import pandas as pd\n",
    "import matplotlib.pyplot as plt\n",
    "%matplotlib inline"
   ]
  },
  {
   "cell_type": "code",
   "execution_count": 2,
   "metadata": {},
   "outputs": [],
   "source": [
    "dateparse = lambda x: pd.datetime.strptime(x, '%d-%m-%Y %H:%M')\n",
    "df = pd.read_csv(\"Train.csv\", parse_dates=['Datetime'], index_col='Datetime', date_parser=dateparse)"
   ]
  },
  {
   "cell_type": "code",
   "execution_count": 3,
   "metadata": {},
   "outputs": [],
   "source": [
    "df = df.drop(\"ID\", axis=1)"
   ]
  },
  {
   "cell_type": "code",
   "execution_count": 4,
   "metadata": {},
   "outputs": [],
   "source": [
    "df.index = pd.to_datetime(df.index)"
   ]
  },
  {
   "cell_type": "code",
   "execution_count": 5,
   "metadata": {},
   "outputs": [],
   "source": [
    "train = df[:'2014-07-31']\n",
    "test = df['2014-08-1':]\n",
    "\n"
   ]
  },
  {
   "cell_type": "code",
   "execution_count": 6,
   "metadata": {},
   "outputs": [],
   "source": [
    "from sklearn.preprocessing import MinMaxScaler"
   ]
  },
  {
   "cell_type": "code",
   "execution_count": 7,
   "metadata": {},
   "outputs": [],
   "source": [
    "scaler = MinMaxScaler()"
   ]
  },
  {
   "cell_type": "code",
   "execution_count": 8,
   "metadata": {},
   "outputs": [],
   "source": [
    "train_scaled = scaler.fit_transform(train)"
   ]
  },
  {
   "cell_type": "code",
   "execution_count": 9,
   "metadata": {},
   "outputs": [],
   "source": [
    "test_scaled = scaler.transform(train)"
   ]
  },
  {
   "cell_type": "code",
   "execution_count": 10,
   "metadata": {},
   "outputs": [],
   "source": [
    "def next_batch(tdata, batch_size, steps):\n",
    "    \n",
    "    rand_start = np.random.randint(0, len(tdata)-steps)\n",
    "    \n",
    "    batch = np.array(tdata[rand_start:rand_start+steps+1]).reshape(1, steps+1)\n",
    "    \n",
    "    return batch[:,:-1].reshape(-1, steps,1), batch[:,1:].reshape(-1,steps,1)\n",
    "    "
   ]
  },
  {
   "cell_type": "code",
   "execution_count": 11,
   "metadata": {},
   "outputs": [],
   "source": [
    "import tensorflow as tf"
   ]
  },
  {
   "cell_type": "code",
   "execution_count": 12,
   "metadata": {},
   "outputs": [],
   "source": [
    "num_inputs = 1\n",
    "num_outputs = 1\n",
    "num_neurons = 100\n",
    "learning_rate = 0.001\n",
    "num_steps = 168\n",
    "num_iter = 4000"
   ]
  },
  {
   "cell_type": "code",
   "execution_count": null,
   "metadata": {},
   "outputs": [],
   "source": []
  },
  {
   "cell_type": "code",
   "execution_count": 13,
   "metadata": {},
   "outputs": [],
   "source": [
    "X = tf.placeholder(tf.float32, shape=[None, num_steps, num_inputs])\n",
    "y = tf.placeholder(tf.float32, shape=[None, num_steps, num_outputs])"
   ]
  },
  {
   "cell_type": "code",
   "execution_count": 14,
   "metadata": {},
   "outputs": [],
   "source": [
    "#RNN"
   ]
  },
  {
   "cell_type": "code",
   "execution_count": 15,
   "metadata": {},
   "outputs": [],
   "source": [
    "cell = tf.contrib.rnn.OutputProjectionWrapper(tf.contrib.rnn.LSTMCell(num_units=num_neurons, \n",
    "                                                                      activation=tf.nn.relu), output_size=num_outputs)"
   ]
  },
  {
   "cell_type": "code",
   "execution_count": 16,
   "metadata": {},
   "outputs": [],
   "source": [
    "output, states = tf.nn.dynamic_rnn(cell, X, dtype=tf.float32)"
   ]
  },
  {
   "cell_type": "code",
   "execution_count": 17,
   "metadata": {},
   "outputs": [],
   "source": [
    "loss = tf.sqrt(tf.reduce_mean(tf.square(output-y)))"
   ]
  },
  {
   "cell_type": "code",
   "execution_count": null,
   "metadata": {},
   "outputs": [],
   "source": []
  },
  {
   "cell_type": "code",
   "execution_count": 18,
   "metadata": {},
   "outputs": [],
   "source": [
    "optimizer = tf.train.AdamOptimizer (learning_rate=learning_rate)\n",
    "train = optimizer.minimize(loss)"
   ]
  },
  {
   "cell_type": "code",
   "execution_count": 19,
   "metadata": {},
   "outputs": [],
   "source": [
    "init = tf.global_variables_initializer()"
   ]
  },
  {
   "cell_type": "code",
   "execution_count": 20,
   "metadata": {},
   "outputs": [],
   "source": [
    "saver = tf.train.Saver()"
   ]
  },
  {
   "cell_type": "code",
   "execution_count": 21,
   "metadata": {},
   "outputs": [
    {
     "name": "stdout",
     "output_type": "stream",
     "text": [
      "0 \trmse 0.272231\n",
      "100 \trmse 0.00887885\n",
      "200 \trmse 0.00731032\n",
      "300 \trmse 0.0555896\n",
      "400 \trmse 0.0175988\n",
      "500 \trmse 0.0108585\n",
      "600 \trmse 0.0135503\n",
      "700 \trmse 0.0163016\n",
      "800 \trmse 0.0131261\n",
      "900 \trmse 0.00787974\n",
      "1000 \trmse 0.0143431\n",
      "1100 \trmse 0.037964\n",
      "1200 \trmse 0.00643707\n",
      "1300 \trmse 0.00384173\n",
      "1400 \trmse 0.0168897\n",
      "1500 \trmse 0.041323\n",
      "1600 \trmse 0.0690315\n",
      "1700 \trmse 0.00932669\n",
      "1800 \trmse 0.0431443\n",
      "1900 \trmse 0.0117446\n",
      "2000 \trmse 0.0169804\n",
      "2100 \trmse 0.030031\n",
      "2200 \trmse 0.0532468\n",
      "2300 \trmse 0.044838\n",
      "2400 \trmse 0.0167388\n",
      "2500 \trmse 0.00407925\n",
      "2600 \trmse 0.0341195\n",
      "2700 \trmse 0.0780619\n",
      "2800 \trmse 0.0179491\n",
      "2900 \trmse 0.0415391\n",
      "3000 \trmse 0.0433531\n",
      "3100 \trmse 0.0561736\n",
      "3200 \trmse 0.0541094\n",
      "3300 \trmse 0.0688117\n",
      "3400 \trmse 0.0679474\n",
      "3500 \trmse 0.0546797\n",
      "3600 \trmse 0.0203592\n",
      "3700 \trmse 0.00887215\n",
      "3800 \trmse 0.0520354\n",
      "3900 \trmse 0.0070743\n"
     ]
    }
   ],
   "source": [
    "with tf.Session() as sess:\n",
    "    \n",
    "    sess.run(init)\n",
    "    \n",
    "    for i in range(num_iter):\n",
    "        y1,y2 = next_batch(train_scaled, 1, num_steps)\n",
    "        sess.run(train, feed_dict={X:y1, y:y2})\n",
    "    \n",
    "   \n",
    "        if i % 100 == 0:\n",
    "            y1,y2 = next_batch(test_scaled, 1, num_steps)\n",
    "            rmse = loss.eval(feed_dict={X:y1, y:y2})\n",
    "            print(i, \"\\trmse\", rmse)\n",
    "        \n",
    "    \n",
    "    saver.save(sess, \"./avtimeseries\")"
   ]
  },
  {
   "cell_type": "code",
   "execution_count": 40,
   "metadata": {},
   "outputs": [
    {
     "ename": "TypeError",
     "evalue": "slice indices must be integers or None or have an __index__ method",
     "output_type": "error",
     "traceback": [
      "\u001b[1;31m---------------------------------------------------------------------------\u001b[0m",
      "\u001b[1;31mTypeError\u001b[0m                                 Traceback (most recent call last)",
      "\u001b[1;32m<ipython-input-40-7537812cd5db>\u001b[0m in \u001b[0;36m<module>\u001b[1;34m()\u001b[0m\n\u001b[1;32m----> 1\u001b[1;33m \u001b[0mtrain_scaled\u001b[0m\u001b[1;33m[\u001b[0m\u001b[1;34m'2014-07-01'\u001b[0m\u001b[1;33m:\u001b[0m\u001b[1;34m'2014-07-07'\u001b[0m\u001b[1;33m]\u001b[0m\u001b[1;33m\u001b[0m\u001b[0m\n\u001b[0m",
      "\u001b[1;31mTypeError\u001b[0m: slice indices must be integers or None or have an __index__ method"
     ]
    }
   ],
   "source": [
    "train_scaled['2014-07-01':'2014-07-07']"
   ]
  },
  {
   "cell_type": "code",
   "execution_count": 23,
   "metadata": {},
   "outputs": [],
   "source": [
    "results = scaler.inverse_transform(np.array(t_inst[num_steps:]).reshape(num_steps,1))"
   ]
  },
  {
   "cell_type": "code",
   "execution_count": 24,
   "metadata": {},
   "outputs": [],
   "source": [
    "test2 = test['2014-07-08':'2014-07-14']"
   ]
  },
  {
   "cell_type": "code",
   "execution_count": 25,
   "metadata": {},
   "outputs": [
    {
     "name": "stderr",
     "output_type": "stream",
     "text": [
      "c:\\program files (x86)\\microsoft visual studio\\shared\\python36_64\\lib\\site-packages\\ipykernel_launcher.py:1: SettingWithCopyWarning: \n",
      "A value is trying to be set on a copy of a slice from a DataFrame.\n",
      "Try using .loc[row_indexer,col_indexer] = value instead\n",
      "\n",
      "See the caveats in the documentation: http://pandas.pydata.org/pandas-docs/stable/indexing.html#indexing-view-versus-copy\n",
      "  \"\"\"Entry point for launching an IPython kernel.\n"
     ]
    }
   ],
   "source": [
    "test2['generated'] = results"
   ]
  },
  {
   "cell_type": "code",
   "execution_count": 26,
   "metadata": {},
   "outputs": [
    {
     "data": {
      "text/html": [
       "<div>\n",
       "<style scoped>\n",
       "    .dataframe tbody tr th:only-of-type {\n",
       "        vertical-align: middle;\n",
       "    }\n",
       "\n",
       "    .dataframe tbody tr th {\n",
       "        vertical-align: top;\n",
       "    }\n",
       "\n",
       "    .dataframe thead th {\n",
       "        text-align: right;\n",
       "    }\n",
       "</style>\n",
       "<table border=\"1\" class=\"dataframe\">\n",
       "  <thead>\n",
       "    <tr style=\"text-align: right;\">\n",
       "      <th></th>\n",
       "      <th>Count</th>\n",
       "      <th>generated</th>\n",
       "    </tr>\n",
       "    <tr>\n",
       "      <th>Datetime</th>\n",
       "      <th></th>\n",
       "      <th></th>\n",
       "    </tr>\n",
       "  </thead>\n",
       "  <tbody>\n",
       "    <tr>\n",
       "      <th>2014-08-01 00:00:00</th>\n",
       "      <td>382</td>\n",
       "      <td>404.581879</td>\n",
       "    </tr>\n",
       "    <tr>\n",
       "      <th>2014-08-01 01:00:00</th>\n",
       "      <td>278</td>\n",
       "      <td>348.669495</td>\n",
       "    </tr>\n",
       "    <tr>\n",
       "      <th>2014-08-01 02:00:00</th>\n",
       "      <td>236</td>\n",
       "      <td>299.672363</td>\n",
       "    </tr>\n",
       "    <tr>\n",
       "      <th>2014-08-01 03:00:00</th>\n",
       "      <td>216</td>\n",
       "      <td>254.990860</td>\n",
       "    </tr>\n",
       "    <tr>\n",
       "      <th>2014-08-01 04:00:00</th>\n",
       "      <td>176</td>\n",
       "      <td>220.274017</td>\n",
       "    </tr>\n",
       "    <tr>\n",
       "      <th>2014-08-01 05:00:00</th>\n",
       "      <td>172</td>\n",
       "      <td>201.820114</td>\n",
       "    </tr>\n",
       "    <tr>\n",
       "      <th>2014-08-01 06:00:00</th>\n",
       "      <td>160</td>\n",
       "      <td>206.754745</td>\n",
       "    </tr>\n",
       "    <tr>\n",
       "      <th>2014-08-01 07:00:00</th>\n",
       "      <td>236</td>\n",
       "      <td>233.608780</td>\n",
       "    </tr>\n",
       "    <tr>\n",
       "      <th>2014-08-01 08:00:00</th>\n",
       "      <td>236</td>\n",
       "      <td>283.745789</td>\n",
       "    </tr>\n",
       "    <tr>\n",
       "      <th>2014-08-01 09:00:00</th>\n",
       "      <td>366</td>\n",
       "      <td>363.862305</td>\n",
       "    </tr>\n",
       "    <tr>\n",
       "      <th>2014-08-01 10:00:00</th>\n",
       "      <td>562</td>\n",
       "      <td>478.060669</td>\n",
       "    </tr>\n",
       "    <tr>\n",
       "      <th>2014-08-01 11:00:00</th>\n",
       "      <td>630</td>\n",
       "      <td>533.630798</td>\n",
       "    </tr>\n",
       "    <tr>\n",
       "      <th>2014-08-01 12:00:00</th>\n",
       "      <td>558</td>\n",
       "      <td>524.704773</td>\n",
       "    </tr>\n",
       "    <tr>\n",
       "      <th>2014-08-01 13:00:00</th>\n",
       "      <td>478</td>\n",
       "      <td>500.262543</td>\n",
       "    </tr>\n",
       "    <tr>\n",
       "      <th>2014-08-01 14:00:00</th>\n",
       "      <td>574</td>\n",
       "      <td>491.436859</td>\n",
       "    </tr>\n",
       "    <tr>\n",
       "      <th>2014-08-01 15:00:00</th>\n",
       "      <td>478</td>\n",
       "      <td>492.526978</td>\n",
       "    </tr>\n",
       "    <tr>\n",
       "      <th>2014-08-01 16:00:00</th>\n",
       "      <td>446</td>\n",
       "      <td>496.645172</td>\n",
       "    </tr>\n",
       "    <tr>\n",
       "      <th>2014-08-01 17:00:00</th>\n",
       "      <td>534</td>\n",
       "      <td>500.154999</td>\n",
       "    </tr>\n",
       "    <tr>\n",
       "      <th>2014-08-01 18:00:00</th>\n",
       "      <td>564</td>\n",
       "      <td>502.518799</td>\n",
       "    </tr>\n",
       "    <tr>\n",
       "      <th>2014-08-01 19:00:00</th>\n",
       "      <td>438</td>\n",
       "      <td>501.048981</td>\n",
       "    </tr>\n",
       "    <tr>\n",
       "      <th>2014-08-01 20:00:00</th>\n",
       "      <td>376</td>\n",
       "      <td>492.582611</td>\n",
       "    </tr>\n",
       "    <tr>\n",
       "      <th>2014-08-01 21:00:00</th>\n",
       "      <td>356</td>\n",
       "      <td>477.633820</td>\n",
       "    </tr>\n",
       "    <tr>\n",
       "      <th>2014-08-01 22:00:00</th>\n",
       "      <td>384</td>\n",
       "      <td>455.385773</td>\n",
       "    </tr>\n",
       "    <tr>\n",
       "      <th>2014-08-01 23:00:00</th>\n",
       "      <td>350</td>\n",
       "      <td>426.215485</td>\n",
       "    </tr>\n",
       "    <tr>\n",
       "      <th>2014-08-02 00:00:00</th>\n",
       "      <td>330</td>\n",
       "      <td>390.489960</td>\n",
       "    </tr>\n",
       "    <tr>\n",
       "      <th>2014-08-02 01:00:00</th>\n",
       "      <td>236</td>\n",
       "      <td>349.253693</td>\n",
       "    </tr>\n",
       "    <tr>\n",
       "      <th>2014-08-02 02:00:00</th>\n",
       "      <td>194</td>\n",
       "      <td>304.638519</td>\n",
       "    </tr>\n",
       "    <tr>\n",
       "      <th>2014-08-02 03:00:00</th>\n",
       "      <td>206</td>\n",
       "      <td>260.835938</td>\n",
       "    </tr>\n",
       "    <tr>\n",
       "      <th>2014-08-02 04:00:00</th>\n",
       "      <td>132</td>\n",
       "      <td>226.594162</td>\n",
       "    </tr>\n",
       "    <tr>\n",
       "      <th>2014-08-02 05:00:00</th>\n",
       "      <td>98</td>\n",
       "      <td>207.807358</td>\n",
       "    </tr>\n",
       "    <tr>\n",
       "      <th>...</th>\n",
       "      <td>...</td>\n",
       "      <td>...</td>\n",
       "    </tr>\n",
       "    <tr>\n",
       "      <th>2014-08-06 18:00:00</th>\n",
       "      <td>512</td>\n",
       "      <td>509.572021</td>\n",
       "    </tr>\n",
       "    <tr>\n",
       "      <th>2014-08-06 19:00:00</th>\n",
       "      <td>510</td>\n",
       "      <td>507.855988</td>\n",
       "    </tr>\n",
       "    <tr>\n",
       "      <th>2014-08-06 20:00:00</th>\n",
       "      <td>482</td>\n",
       "      <td>499.022034</td>\n",
       "    </tr>\n",
       "    <tr>\n",
       "      <th>2014-08-06 21:00:00</th>\n",
       "      <td>420</td>\n",
       "      <td>483.640533</td>\n",
       "    </tr>\n",
       "    <tr>\n",
       "      <th>2014-08-06 22:00:00</th>\n",
       "      <td>398</td>\n",
       "      <td>460.961456</td>\n",
       "    </tr>\n",
       "    <tr>\n",
       "      <th>2014-08-06 23:00:00</th>\n",
       "      <td>380</td>\n",
       "      <td>431.336914</td>\n",
       "    </tr>\n",
       "    <tr>\n",
       "      <th>2014-08-07 00:00:00</th>\n",
       "      <td>342</td>\n",
       "      <td>395.169861</td>\n",
       "    </tr>\n",
       "    <tr>\n",
       "      <th>2014-08-07 01:00:00</th>\n",
       "      <td>306</td>\n",
       "      <td>353.499603</td>\n",
       "    </tr>\n",
       "    <tr>\n",
       "      <th>2014-08-07 02:00:00</th>\n",
       "      <td>256</td>\n",
       "      <td>308.454498</td>\n",
       "    </tr>\n",
       "    <tr>\n",
       "      <th>2014-08-07 03:00:00</th>\n",
       "      <td>164</td>\n",
       "      <td>264.229675</td>\n",
       "    </tr>\n",
       "    <tr>\n",
       "      <th>2014-08-07 04:00:00</th>\n",
       "      <td>146</td>\n",
       "      <td>229.612503</td>\n",
       "    </tr>\n",
       "    <tr>\n",
       "      <th>2014-08-07 05:00:00</th>\n",
       "      <td>158</td>\n",
       "      <td>210.502258</td>\n",
       "    </tr>\n",
       "    <tr>\n",
       "      <th>2014-08-07 06:00:00</th>\n",
       "      <td>184</td>\n",
       "      <td>214.933868</td>\n",
       "    </tr>\n",
       "    <tr>\n",
       "      <th>2014-08-07 07:00:00</th>\n",
       "      <td>188</td>\n",
       "      <td>241.664597</td>\n",
       "    </tr>\n",
       "    <tr>\n",
       "      <th>2014-08-07 08:00:00</th>\n",
       "      <td>190</td>\n",
       "      <td>292.249329</td>\n",
       "    </tr>\n",
       "    <tr>\n",
       "      <th>2014-08-07 09:00:00</th>\n",
       "      <td>274</td>\n",
       "      <td>373.622955</td>\n",
       "    </tr>\n",
       "    <tr>\n",
       "      <th>2014-08-07 10:00:00</th>\n",
       "      <td>444</td>\n",
       "      <td>489.039917</td>\n",
       "    </tr>\n",
       "    <tr>\n",
       "      <th>2014-08-07 11:00:00</th>\n",
       "      <td>556</td>\n",
       "      <td>543.679016</td>\n",
       "    </tr>\n",
       "    <tr>\n",
       "      <th>2014-08-07 12:00:00</th>\n",
       "      <td>436</td>\n",
       "      <td>533.322876</td>\n",
       "    </tr>\n",
       "    <tr>\n",
       "      <th>2014-08-07 13:00:00</th>\n",
       "      <td>370</td>\n",
       "      <td>507.559143</td>\n",
       "    </tr>\n",
       "    <tr>\n",
       "      <th>2014-08-07 14:00:00</th>\n",
       "      <td>446</td>\n",
       "      <td>498.778381</td>\n",
       "    </tr>\n",
       "    <tr>\n",
       "      <th>2014-08-07 15:00:00</th>\n",
       "      <td>420</td>\n",
       "      <td>499.958527</td>\n",
       "    </tr>\n",
       "    <tr>\n",
       "      <th>2014-08-07 16:00:00</th>\n",
       "      <td>450</td>\n",
       "      <td>504.124756</td>\n",
       "    </tr>\n",
       "    <tr>\n",
       "      <th>2014-08-07 17:00:00</th>\n",
       "      <td>456</td>\n",
       "      <td>507.603882</td>\n",
       "    </tr>\n",
       "    <tr>\n",
       "      <th>2014-08-07 18:00:00</th>\n",
       "      <td>498</td>\n",
       "      <td>509.827454</td>\n",
       "    </tr>\n",
       "    <tr>\n",
       "      <th>2014-08-07 19:00:00</th>\n",
       "      <td>394</td>\n",
       "      <td>508.130402</td>\n",
       "    </tr>\n",
       "    <tr>\n",
       "      <th>2014-08-07 20:00:00</th>\n",
       "      <td>362</td>\n",
       "      <td>499.311676</td>\n",
       "    </tr>\n",
       "    <tr>\n",
       "      <th>2014-08-07 21:00:00</th>\n",
       "      <td>338</td>\n",
       "      <td>483.937775</td>\n",
       "    </tr>\n",
       "    <tr>\n",
       "      <th>2014-08-07 22:00:00</th>\n",
       "      <td>318</td>\n",
       "      <td>461.275818</td>\n",
       "    </tr>\n",
       "    <tr>\n",
       "      <th>2014-08-07 23:00:00</th>\n",
       "      <td>340</td>\n",
       "      <td>431.660156</td>\n",
       "    </tr>\n",
       "  </tbody>\n",
       "</table>\n",
       "<p>168 rows × 2 columns</p>\n",
       "</div>"
      ],
      "text/plain": [
       "                     Count   generated\n",
       "Datetime                              \n",
       "2014-08-01 00:00:00    382  404.581879\n",
       "2014-08-01 01:00:00    278  348.669495\n",
       "2014-08-01 02:00:00    236  299.672363\n",
       "2014-08-01 03:00:00    216  254.990860\n",
       "2014-08-01 04:00:00    176  220.274017\n",
       "2014-08-01 05:00:00    172  201.820114\n",
       "2014-08-01 06:00:00    160  206.754745\n",
       "2014-08-01 07:00:00    236  233.608780\n",
       "2014-08-01 08:00:00    236  283.745789\n",
       "2014-08-01 09:00:00    366  363.862305\n",
       "2014-08-01 10:00:00    562  478.060669\n",
       "2014-08-01 11:00:00    630  533.630798\n",
       "2014-08-01 12:00:00    558  524.704773\n",
       "2014-08-01 13:00:00    478  500.262543\n",
       "2014-08-01 14:00:00    574  491.436859\n",
       "2014-08-01 15:00:00    478  492.526978\n",
       "2014-08-01 16:00:00    446  496.645172\n",
       "2014-08-01 17:00:00    534  500.154999\n",
       "2014-08-01 18:00:00    564  502.518799\n",
       "2014-08-01 19:00:00    438  501.048981\n",
       "2014-08-01 20:00:00    376  492.582611\n",
       "2014-08-01 21:00:00    356  477.633820\n",
       "2014-08-01 22:00:00    384  455.385773\n",
       "2014-08-01 23:00:00    350  426.215485\n",
       "2014-08-02 00:00:00    330  390.489960\n",
       "2014-08-02 01:00:00    236  349.253693\n",
       "2014-08-02 02:00:00    194  304.638519\n",
       "2014-08-02 03:00:00    206  260.835938\n",
       "2014-08-02 04:00:00    132  226.594162\n",
       "2014-08-02 05:00:00     98  207.807358\n",
       "...                    ...         ...\n",
       "2014-08-06 18:00:00    512  509.572021\n",
       "2014-08-06 19:00:00    510  507.855988\n",
       "2014-08-06 20:00:00    482  499.022034\n",
       "2014-08-06 21:00:00    420  483.640533\n",
       "2014-08-06 22:00:00    398  460.961456\n",
       "2014-08-06 23:00:00    380  431.336914\n",
       "2014-08-07 00:00:00    342  395.169861\n",
       "2014-08-07 01:00:00    306  353.499603\n",
       "2014-08-07 02:00:00    256  308.454498\n",
       "2014-08-07 03:00:00    164  264.229675\n",
       "2014-08-07 04:00:00    146  229.612503\n",
       "2014-08-07 05:00:00    158  210.502258\n",
       "2014-08-07 06:00:00    184  214.933868\n",
       "2014-08-07 07:00:00    188  241.664597\n",
       "2014-08-07 08:00:00    190  292.249329\n",
       "2014-08-07 09:00:00    274  373.622955\n",
       "2014-08-07 10:00:00    444  489.039917\n",
       "2014-08-07 11:00:00    556  543.679016\n",
       "2014-08-07 12:00:00    436  533.322876\n",
       "2014-08-07 13:00:00    370  507.559143\n",
       "2014-08-07 14:00:00    446  498.778381\n",
       "2014-08-07 15:00:00    420  499.958527\n",
       "2014-08-07 16:00:00    450  504.124756\n",
       "2014-08-07 17:00:00    456  507.603882\n",
       "2014-08-07 18:00:00    498  509.827454\n",
       "2014-08-07 19:00:00    394  508.130402\n",
       "2014-08-07 20:00:00    362  499.311676\n",
       "2014-08-07 21:00:00    338  483.937775\n",
       "2014-08-07 22:00:00    318  461.275818\n",
       "2014-08-07 23:00:00    340  431.660156\n",
       "\n",
       "[168 rows x 2 columns]"
      ]
     },
     "execution_count": 26,
     "metadata": {},
     "output_type": "execute_result"
    }
   ],
   "source": [
    "test2"
   ]
  },
  {
   "cell_type": "code",
   "execution_count": 27,
   "metadata": {},
   "outputs": [
    {
     "data": {
      "text/plain": [
       "<matplotlib.axes._subplots.AxesSubplot at 0x24d6f4c2ac8>"
      ]
     },
     "execution_count": 27,
     "metadata": {},
     "output_type": "execute_result"
    },
    {
     "data": {
      "image/png": "[encoded data removed]",
      "text/plain": [
       "<matplotlib.figure.Figure at 0x24d5d121eb8>"
      ]
     },
     "metadata": {},
     "output_type": "display_data"
    }
   ],
   "source": [
    "test2.plot()"
   ]
  },
  {
   "cell_type": "code",
   "execution_count": 28,
   "metadata": {},
   "outputs": [
    {
     "name": "stdout",
     "output_type": "stream",
     "text": [
      "113.636444188\n"
     ]
    }
   ],
   "source": [
    "with tf.Session() as sess:\n",
    "    print(sess.run(tf.sqrt(tf.reduce_mean(tf.square(test2['Count'] - test2['generated'])))))"
   ]
  },
  {
   "cell_type": "code",
   "execution_count": 29,
   "metadata": {},
   "outputs": [],
   "source": [
    "dateparse = lambda x: pd.datetime.strptime(x, '%d-%m-%Y %H:%M')\n",
    "tdf = pd.read_csv(\"Test.csv\", parse_dates=['Datetime'], index_col='Datetime', date_parser=dateparse)"
   ]
  },
  {
   "cell_type": "code",
   "execution_count": 38,
   "metadata": {},
   "outputs": [],
   "source": [
    "num_test_iter = 5112"
   ]
  },
  {
   "cell_type": "code",
   "execution_count": 32,
   "metadata": {},
   "outputs": [
    {
     "name": "stdout",
     "output_type": "stream",
     "text": [
      "INFO:tensorflow:Restoring parameters from ./avtimeseries\n"
     ]
    }
   ],
   "source": [
    "with tf.Session() as sess:\n",
    "    \n",
    "    saver.restore(sess,\"./avtimeseries\")\n",
    "    \n",
    "    t_inst1 = list(train_scaled[-num_steps:])\n",
    "    \n",
    "    for i in range(num_test_iter):\n",
    "        \n",
    "        x_batch = np.array(t_inst1[-num_steps:]).reshape(1, num_steps, 1)\n",
    "        y_pred = sess.run(output, feed_dict={X:x_batch})\n",
    "       \n",
    "        \n",
    "        t_inst1.append(y_pred[0,-1,0])\n",
    "        "
   ]
  },
  {
   "cell_type": "code",
   "execution_count": 33,
   "metadata": {},
   "outputs": [],
   "source": [
    "resulttest = scaler.inverse_transform(np.array(t_inst1[num_steps:]).reshape(num_test_iter,1))"
   ]
  },
  {
   "cell_type": "code",
   "execution_count": 34,
   "metadata": {},
   "outputs": [
    {
     "data": {
      "text/plain": [
       "array([[ 404.58187866],\n",
       "       [ 348.66949463],\n",
       "       [ 299.67236328],\n",
       "       ..., \n",
       "       [ 500.347229  ],\n",
       "       [ 504.49899292],\n",
       "       [ 507.99838257]], dtype=float32)"
      ]
     },
     "execution_count": 34,
     "metadata": {},
     "output_type": "execute_result"
    }
   ],
   "source": [
    "resulttest"
   ]
  },
  {
   "cell_type": "code",
   "execution_count": 35,
   "metadata": {},
   "outputs": [],
   "source": [
    "tdf['Count'] = resulttest"
   ]
  },
  {
   "cell_type": "code",
   "execution_count": 36,
   "metadata": {},
   "outputs": [
    {
     "data": {
      "text/html": [
       "<div>\n",
       "<style scoped>\n",
       "    .dataframe tbody tr th:only-of-type {\n",
       "        vertical-align: middle;\n",
       "    }\n",
       "\n",
       "    .dataframe tbody tr th {\n",
       "        vertical-align: top;\n",
       "    }\n",
       "\n",
       "    .dataframe thead th {\n",
       "        text-align: right;\n",
       "    }\n",
       "</style>\n",
       "<table border=\"1\" class=\"dataframe\">\n",
       "  <thead>\n",
       "    <tr style=\"text-align: right;\">\n",
       "      <th></th>\n",
       "      <th>ID</th>\n",
       "      <th>Count</th>\n",
       "    </tr>\n",
       "    <tr>\n",
       "      <th>Datetime</th>\n",
       "      <th></th>\n",
       "      <th></th>\n",
       "    </tr>\n",
       "  </thead>\n",
       "  <tbody>\n",
       "    <tr>\n",
       "      <th>2014-09-26 00:00:00</th>\n",
       "      <td>18288</td>\n",
       "      <td>404.581879</td>\n",
       "    </tr>\n",
       "    <tr>\n",
       "      <th>2014-09-26 01:00:00</th>\n",
       "      <td>18289</td>\n",
       "      <td>348.669495</td>\n",
       "    </tr>\n",
       "    <tr>\n",
       "      <th>2014-09-26 02:00:00</th>\n",
       "      <td>18290</td>\n",
       "      <td>299.672363</td>\n",
       "    </tr>\n",
       "    <tr>\n",
       "      <th>2014-09-26 03:00:00</th>\n",
       "      <td>18291</td>\n",
       "      <td>254.990860</td>\n",
       "    </tr>\n",
       "    <tr>\n",
       "      <th>2014-09-26 04:00:00</th>\n",
       "      <td>18292</td>\n",
       "      <td>220.274017</td>\n",
       "    </tr>\n",
       "    <tr>\n",
       "      <th>2014-09-26 05:00:00</th>\n",
       "      <td>18293</td>\n",
       "      <td>201.820114</td>\n",
       "    </tr>\n",
       "    <tr>\n",
       "      <th>2014-09-26 06:00:00</th>\n",
       "      <td>18294</td>\n",
       "      <td>206.754745</td>\n",
       "    </tr>\n",
       "    <tr>\n",
       "      <th>2014-09-26 07:00:00</th>\n",
       "      <td>18295</td>\n",
       "      <td>233.608780</td>\n",
       "    </tr>\n",
       "    <tr>\n",
       "      <th>2014-09-26 08:00:00</th>\n",
       "      <td>18296</td>\n",
       "      <td>283.745789</td>\n",
       "    </tr>\n",
       "    <tr>\n",
       "      <th>2014-09-26 09:00:00</th>\n",
       "      <td>18297</td>\n",
       "      <td>363.862305</td>\n",
       "    </tr>\n",
       "    <tr>\n",
       "      <th>2014-09-26 10:00:00</th>\n",
       "      <td>18298</td>\n",
       "      <td>478.060669</td>\n",
       "    </tr>\n",
       "    <tr>\n",
       "      <th>2014-09-26 11:00:00</th>\n",
       "      <td>18299</td>\n",
       "      <td>533.630798</td>\n",
       "    </tr>\n",
       "    <tr>\n",
       "      <th>2014-09-26 12:00:00</th>\n",
       "      <td>18300</td>\n",
       "      <td>524.704773</td>\n",
       "    </tr>\n",
       "    <tr>\n",
       "      <th>2014-09-26 13:00:00</th>\n",
       "      <td>18301</td>\n",
       "      <td>500.262543</td>\n",
       "    </tr>\n",
       "    <tr>\n",
       "      <th>2014-09-26 14:00:00</th>\n",
       "      <td>18302</td>\n",
       "      <td>491.436859</td>\n",
       "    </tr>\n",
       "    <tr>\n",
       "      <th>2014-09-26 15:00:00</th>\n",
       "      <td>18303</td>\n",
       "      <td>492.526978</td>\n",
       "    </tr>\n",
       "    <tr>\n",
       "      <th>2014-09-26 16:00:00</th>\n",
       "      <td>18304</td>\n",
       "      <td>496.645172</td>\n",
       "    </tr>\n",
       "    <tr>\n",
       "      <th>2014-09-26 17:00:00</th>\n",
       "      <td>18305</td>\n",
       "      <td>500.154999</td>\n",
       "    </tr>\n",
       "    <tr>\n",
       "      <th>2014-09-26 18:00:00</th>\n",
       "      <td>18306</td>\n",
       "      <td>502.518799</td>\n",
       "    </tr>\n",
       "    <tr>\n",
       "      <th>2014-09-26 19:00:00</th>\n",
       "      <td>18307</td>\n",
       "      <td>501.048981</td>\n",
       "    </tr>\n",
       "  </tbody>\n",
       "</table>\n",
       "</div>"
      ],
      "text/plain": [
       "                        ID       Count\n",
       "Datetime                              \n",
       "2014-09-26 00:00:00  18288  404.581879\n",
       "2014-09-26 01:00:00  18289  348.669495\n",
       "2014-09-26 02:00:00  18290  299.672363\n",
       "2014-09-26 03:00:00  18291  254.990860\n",
       "2014-09-26 04:00:00  18292  220.274017\n",
       "2014-09-26 05:00:00  18293  201.820114\n",
       "2014-09-26 06:00:00  18294  206.754745\n",
       "2014-09-26 07:00:00  18295  233.608780\n",
       "2014-09-26 08:00:00  18296  283.745789\n",
       "2014-09-26 09:00:00  18297  363.862305\n",
       "2014-09-26 10:00:00  18298  478.060669\n",
       "2014-09-26 11:00:00  18299  533.630798\n",
       "2014-09-26 12:00:00  18300  524.704773\n",
       "2014-09-26 13:00:00  18301  500.262543\n",
       "2014-09-26 14:00:00  18302  491.436859\n",
       "2014-09-26 15:00:00  18303  492.526978\n",
       "2014-09-26 16:00:00  18304  496.645172\n",
       "2014-09-26 17:00:00  18305  500.154999\n",
       "2014-09-26 18:00:00  18306  502.518799\n",
       "2014-09-26 19:00:00  18307  501.048981"
      ]
     },
     "execution_count": 36,
     "metadata": {},
     "output_type": "execute_result"
    }
   ],
   "source": [
    "tdf.head(20)"
   ]
  },
  {
   "cell_type": "code",
   "execution_count": 37,
   "metadata": {},
   "outputs": [],
   "source": [
    "tdf.to_csv(\"./sub.csv\")"
   ]
  }
 ],
 "metadata": {
  "kernelspec": {
   "display_name": "Python 3",
   "language": "python",
   "name": "python3"
  },
  "language_info": {
   "codemirror_mode": {
    "name": "ipython",
    "version": 3
   },
   "file_extension": ".py",
   "mimetype": "text/x-python",
   "name": "python",
   "nbconvert_exporter": "python",
   "pygments_lexer": "ipython3",
   "version": "3.6.3"
  }
 },
 "nbformat": 4,
 "nbformat_minor": 2
}
