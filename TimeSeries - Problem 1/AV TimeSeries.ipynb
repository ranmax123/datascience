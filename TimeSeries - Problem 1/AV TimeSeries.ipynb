{
 "cells": [
  {
   "cell_type": "code",
   "execution_count": 1,
   "metadata": {},
   "outputs": [],
   "source": [
    "import numpy as np\n",
    "import pandas as pd\n",
    "import matplotlib.pyplot as plt\n",
    "%matplotlib inline"
   ]
  },
  {
   "cell_type": "code",
   "execution_count": 2,
   "metadata": {},
   "outputs": [],
   "source": [
    "dateparse = lambda x: pd.datetime.strptime(x, '%d-%m-%Y %H:%M')\n",
    "df = pd.read_csv(\"Train.csv\", parse_dates=['Datetime'], index_col='Datetime', date_parser=dateparse)"
   ]
  },
  {
   "cell_type": "code",
   "execution_count": 3,
   "metadata": {},
   "outputs": [],
   "source": [
    "df = df.drop(\"ID\", axis=1)"
   ]
  },
  {
   "cell_type": "code",
   "execution_count": 55,
   "metadata": {},
   "outputs": [],
   "source": [
    "df.index = pd.to_datetime(df.index)"
   ]
  },
  {
   "cell_type": "code",
   "execution_count": 56,
   "metadata": {},
   "outputs": [],
   "source": [
    "train = df['2014-01-25':'2014-09-09']\n",
    "test = df['2014-09-10':]\n",
    "\n"
   ]
  },
  {
   "cell_type": "code",
   "execution_count": 57,
   "metadata": {},
   "outputs": [],
   "source": [
    "from sklearn.preprocessing import MinMaxScaler"
   ]
  },
  {
   "cell_type": "code",
   "execution_count": 58,
   "metadata": {},
   "outputs": [],
   "source": [
    "scaler = MinMaxScaler()"
   ]
  },
  {
   "cell_type": "code",
   "execution_count": 59,
   "metadata": {},
   "outputs": [],
   "source": [
    "train_scaled = scaler.fit_transform(train)"
   ]
  },
  {
   "cell_type": "code",
   "execution_count": 60,
   "metadata": {},
   "outputs": [],
   "source": [
    "test_scaled = scaler.transform(test)"
   ]
  },
  {
   "cell_type": "code",
   "execution_count": 61,
   "metadata": {},
   "outputs": [],
   "source": [
    "def next_batch(tdata, batch_size, steps):\n",
    "    \n",
    "    rand_start = np.random.randint(0, len(tdata)-steps)\n",
    "    \n",
    "    #print(rand_start)\n",
    "    #print(rand_start+steps+1)\n",
    "    \n",
    "    batch = np.array(tdata[rand_start:rand_start+steps+1]).reshape(1, steps+1)\n",
    "    \n",
    "    return batch[:,:-1].reshape(-1, steps,1), batch[:,1:].reshape(-1,steps,1)\n",
    "    "
   ]
  },
  {
   "cell_type": "code",
   "execution_count": 62,
   "metadata": {},
   "outputs": [],
   "source": [
    "import tensorflow as tf"
   ]
  },
  {
   "cell_type": "code",
   "execution_count": 63,
   "metadata": {},
   "outputs": [],
   "source": [
    "tf.reset_default_graph()"
   ]
  },
  {
   "cell_type": "code",
   "execution_count": 64,
   "metadata": {},
   "outputs": [],
   "source": [
    "num_inputs = 1\n",
    "num_outputs = 1\n",
    "num_neurons = 100\n",
    "learning_rate = 0.01\n",
    "num_steps = 168\n",
    "num_iter = 4000"
   ]
  },
  {
   "cell_type": "code",
   "execution_count": null,
   "metadata": {},
   "outputs": [],
   "source": []
  },
  {
   "cell_type": "code",
   "execution_count": 65,
   "metadata": {},
   "outputs": [],
   "source": [
    "X = tf.placeholder(tf.float32, shape=[None, num_steps, num_inputs])\n",
    "y = tf.placeholder(tf.float32, shape=[None, num_steps, num_outputs])"
   ]
  },
  {
   "cell_type": "code",
   "execution_count": 66,
   "metadata": {},
   "outputs": [],
   "source": [
    "#RNN"
   ]
  },
  {
   "cell_type": "code",
   "execution_count": 67,
   "metadata": {},
   "outputs": [],
   "source": [
    "cell = tf.contrib.rnn.OutputProjectionWrapper(tf.contrib.rnn.LSTMCell(num_units=num_neurons, \n",
    "                                                                      activation=tf.nn.relu), output_size=num_outputs)"
   ]
  },
  {
   "cell_type": "code",
   "execution_count": 68,
   "metadata": {},
   "outputs": [],
   "source": [
    "output, states = tf.nn.dynamic_rnn(cell, X, dtype=tf.float32)"
   ]
  },
  {
   "cell_type": "code",
   "execution_count": 69,
   "metadata": {},
   "outputs": [],
   "source": [
    "loss = tf.sqrt(tf.reduce_mean(tf.square(output-y)))"
   ]
  },
  {
   "cell_type": "code",
   "execution_count": null,
   "metadata": {},
   "outputs": [],
   "source": []
  },
  {
   "cell_type": "code",
   "execution_count": 70,
   "metadata": {},
   "outputs": [],
   "source": [
    "optimizer = tf.train.AdamOptimizer (learning_rate=learning_rate)\n",
    "train = optimizer.minimize(loss)"
   ]
  },
  {
   "cell_type": "code",
   "execution_count": 71,
   "metadata": {},
   "outputs": [],
   "source": [
    "init = tf.global_variables_initializer()"
   ]
  },
  {
   "cell_type": "code",
   "execution_count": 72,
   "metadata": {},
   "outputs": [],
   "source": [
    "saver = tf.train.Saver()"
   ]
  },
  {
   "cell_type": "code",
   "execution_count": null,
   "metadata": {},
   "outputs": [],
   "source": []
  },
  {
   "cell_type": "code",
   "execution_count": 73,
   "metadata": {},
   "outputs": [
    {
     "name": "stdout",
     "output_type": "stream",
     "text": [
      "0 \trmse 0.2784\n",
      "100 \trmse 0.0787549\n",
      "200 \trmse 0.0704387\n",
      "300 \trmse 0.0732346\n",
      "400 \trmse 0.0625852\n",
      "500 \trmse 0.07015\n",
      "600 \trmse 0.0599902\n",
      "700 \trmse 0.0705939\n",
      "800 \trmse 0.0519696\n",
      "900 \trmse 0.0602639\n",
      "1000 \trmse 0.0757587\n",
      "1100 \trmse 0.0660442\n",
      "1200 \trmse 0.0747903\n",
      "1300 \trmse 0.0712007\n",
      "1400 \trmse 0.0714435\n",
      "1500 \trmse 0.0638834\n",
      "1600 \trmse 0.0694249\n",
      "1700 \trmse 0.0521944\n",
      "1800 \trmse 0.0537344\n",
      "1900 \trmse 0.0727353\n",
      "2000 \trmse 0.0685105\n",
      "2100 \trmse 0.0619101\n",
      "2200 \trmse 0.0676403\n",
      "2300 \trmse 0.0599403\n",
      "2400 \trmse 0.0549916\n",
      "2500 \trmse 0.0726817\n",
      "2600 \trmse 0.0681138\n",
      "2700 \trmse 0.0610273\n",
      "2800 \trmse 0.0607308\n",
      "2900 \trmse 0.0555352\n",
      "3000 \trmse 0.0518246\n",
      "3100 \trmse 0.05654\n",
      "3200 \trmse 0.0544244\n",
      "3300 \trmse 0.0524324\n",
      "3400 \trmse 0.0698735\n",
      "3500 \trmse 0.0554502\n",
      "3600 \trmse 0.0769198\n",
      "3700 \trmse 0.0746828\n",
      "3800 \trmse 0.0570033\n",
      "3900 \trmse 0.0524984\n"
     ]
    }
   ],
   "source": [
    "with tf.Session() as sess:\n",
    "    \n",
    "    sess.run(init)\n",
    "    \n",
    "    for i in range(num_iter):\n",
    "        y1,y2 = next_batch(train_scaled, 1, num_steps)\n",
    "        sess.run(train, feed_dict={X:y1, y:y2})\n",
    "    \n",
    "   \n",
    "        if i % 100 == 0:\n",
    "            y1,y2 = next_batch(test_scaled, 1, num_steps)\n",
    "            rmse = loss.eval(feed_dict={X:y1, y:y2})\n",
    "            print(i, \"\\trmse\", rmse)\n",
    "        \n",
    "    \n",
    "    saver.save(sess, \"./avtimeseries\")"
   ]
  },
  {
   "cell_type": "code",
   "execution_count": 74,
   "metadata": {},
   "outputs": [],
   "source": [
    "num_iter = num_steps"
   ]
  },
  {
   "cell_type": "code",
   "execution_count": 75,
   "metadata": {},
   "outputs": [
    {
     "name": "stdout",
     "output_type": "stream",
     "text": [
      "INFO:tensorflow:Restoring parameters from ./avtimeseries\n"
     ]
    }
   ],
   "source": [
    "with tf.Session() as sess:\n",
    "    \n",
    "    saver.restore(sess,\"./avtimeseries\")\n",
    "    \n",
    "    t_inst = list(train_scaled[-num_steps:])\n",
    "    \n",
    "    for i in range(num_iter):\n",
    "        \n",
    "        x_batch = np.array(t_inst[-num_steps:]).reshape(1, num_steps, 1)\n",
    "        y_pred = sess.run(output, feed_dict={X:x_batch})\n",
    "       \n",
    "        \n",
    "        t_inst.append(y_pred[0,-1,0])\n",
    "        "
   ]
  },
  {
   "cell_type": "code",
   "execution_count": 76,
   "metadata": {},
   "outputs": [],
   "source": [
    "results = scaler.inverse_transform(np.array(t_inst[num_steps:]).reshape(num_iter,1))"
   ]
  },
  {
   "cell_type": "code",
   "execution_count": 77,
   "metadata": {},
   "outputs": [],
   "source": [
    "test2 = test['2014-09-10':'2014-09-16']"
   ]
  },
  {
   "cell_type": "code",
   "execution_count": 78,
   "metadata": {},
   "outputs": [
    {
     "name": "stderr",
     "output_type": "stream",
     "text": [
      "c:\\program files (x86)\\microsoft visual studio\\shared\\python36_64\\lib\\site-packages\\ipykernel_launcher.py:1: SettingWithCopyWarning: \n",
      "A value is trying to be set on a copy of a slice from a DataFrame.\n",
      "Try using .loc[row_indexer,col_indexer] = value instead\n",
      "\n",
      "See the caveats in the documentation: http://pandas.pydata.org/pandas-docs/stable/indexing.html#indexing-view-versus-copy\n",
      "  \"\"\"Entry point for launching an IPython kernel.\n"
     ]
    }
   ],
   "source": [
    "test2['generated'] = results"
   ]
  },
  {
   "cell_type": "code",
   "execution_count": 79,
   "metadata": {},
   "outputs": [
    {
     "data": {
      "text/html": [
       "<div>\n",
       "<style scoped>\n",
       "    .dataframe tbody tr th:only-of-type {\n",
       "        vertical-align: middle;\n",
       "    }\n",
       "\n",
       "    .dataframe tbody tr th {\n",
       "        vertical-align: top;\n",
       "    }\n",
       "\n",
       "    .dataframe thead th {\n",
       "        text-align: right;\n",
       "    }\n",
       "</style>\n",
       "<table border=\"1\" class=\"dataframe\">\n",
       "  <thead>\n",
       "    <tr style=\"text-align: right;\">\n",
       "      <th></th>\n",
       "      <th>Count</th>\n",
       "      <th>generated</th>\n",
       "    </tr>\n",
       "    <tr>\n",
       "      <th>Datetime</th>\n",
       "      <th></th>\n",
       "      <th></th>\n",
       "    </tr>\n",
       "  </thead>\n",
       "  <tbody>\n",
       "    <tr>\n",
       "      <th>2014-09-10 00:00:00</th>\n",
       "      <td>456</td>\n",
       "      <td>516.927490</td>\n",
       "    </tr>\n",
       "    <tr>\n",
       "      <th>2014-09-10 01:00:00</th>\n",
       "      <td>374</td>\n",
       "      <td>425.700714</td>\n",
       "    </tr>\n",
       "    <tr>\n",
       "      <th>2014-09-10 02:00:00</th>\n",
       "      <td>308</td>\n",
       "      <td>353.440826</td>\n",
       "    </tr>\n",
       "    <tr>\n",
       "      <th>2014-09-10 03:00:00</th>\n",
       "      <td>198</td>\n",
       "      <td>307.559052</td>\n",
       "    </tr>\n",
       "    <tr>\n",
       "      <th>2014-09-10 04:00:00</th>\n",
       "      <td>194</td>\n",
       "      <td>305.881287</td>\n",
       "    </tr>\n",
       "    <tr>\n",
       "      <th>2014-09-10 05:00:00</th>\n",
       "      <td>198</td>\n",
       "      <td>339.171875</td>\n",
       "    </tr>\n",
       "    <tr>\n",
       "      <th>2014-09-10 06:00:00</th>\n",
       "      <td>184</td>\n",
       "      <td>383.825958</td>\n",
       "    </tr>\n",
       "    <tr>\n",
       "      <th>2014-09-10 07:00:00</th>\n",
       "      <td>256</td>\n",
       "      <td>430.207062</td>\n",
       "    </tr>\n",
       "    <tr>\n",
       "      <th>2014-09-10 08:00:00</th>\n",
       "      <td>314</td>\n",
       "      <td>498.120453</td>\n",
       "    </tr>\n",
       "    <tr>\n",
       "      <th>2014-09-10 09:00:00</th>\n",
       "      <td>364</td>\n",
       "      <td>676.125610</td>\n",
       "    </tr>\n",
       "    <tr>\n",
       "      <th>2014-09-10 10:00:00</th>\n",
       "      <td>736</td>\n",
       "      <td>816.230469</td>\n",
       "    </tr>\n",
       "    <tr>\n",
       "      <th>2014-09-10 11:00:00</th>\n",
       "      <td>652</td>\n",
       "      <td>787.335205</td>\n",
       "    </tr>\n",
       "    <tr>\n",
       "      <th>2014-09-10 12:00:00</th>\n",
       "      <td>680</td>\n",
       "      <td>659.175842</td>\n",
       "    </tr>\n",
       "    <tr>\n",
       "      <th>2014-09-10 13:00:00</th>\n",
       "      <td>580</td>\n",
       "      <td>702.450439</td>\n",
       "    </tr>\n",
       "    <tr>\n",
       "      <th>2014-09-10 14:00:00</th>\n",
       "      <td>606</td>\n",
       "      <td>681.620239</td>\n",
       "    </tr>\n",
       "    <tr>\n",
       "      <th>2014-09-10 15:00:00</th>\n",
       "      <td>562</td>\n",
       "      <td>664.386414</td>\n",
       "    </tr>\n",
       "    <tr>\n",
       "      <th>2014-09-10 16:00:00</th>\n",
       "      <td>616</td>\n",
       "      <td>690.558044</td>\n",
       "    </tr>\n",
       "    <tr>\n",
       "      <th>2014-09-10 17:00:00</th>\n",
       "      <td>598</td>\n",
       "      <td>714.815308</td>\n",
       "    </tr>\n",
       "    <tr>\n",
       "      <th>2014-09-10 18:00:00</th>\n",
       "      <td>676</td>\n",
       "      <td>697.799683</td>\n",
       "    </tr>\n",
       "    <tr>\n",
       "      <th>2014-09-10 19:00:00</th>\n",
       "      <td>690</td>\n",
       "      <td>662.812256</td>\n",
       "    </tr>\n",
       "    <tr>\n",
       "      <th>2014-09-10 20:00:00</th>\n",
       "      <td>648</td>\n",
       "      <td>642.822449</td>\n",
       "    </tr>\n",
       "    <tr>\n",
       "      <th>2014-09-10 21:00:00</th>\n",
       "      <td>612</td>\n",
       "      <td>630.509460</td>\n",
       "    </tr>\n",
       "    <tr>\n",
       "      <th>2014-09-10 22:00:00</th>\n",
       "      <td>538</td>\n",
       "      <td>606.390808</td>\n",
       "    </tr>\n",
       "    <tr>\n",
       "      <th>2014-09-10 23:00:00</th>\n",
       "      <td>552</td>\n",
       "      <td>540.756958</td>\n",
       "    </tr>\n",
       "    <tr>\n",
       "      <th>2014-09-11 00:00:00</th>\n",
       "      <td>480</td>\n",
       "      <td>455.742737</td>\n",
       "    </tr>\n",
       "    <tr>\n",
       "      <th>2014-09-11 01:00:00</th>\n",
       "      <td>368</td>\n",
       "      <td>376.075867</td>\n",
       "    </tr>\n",
       "    <tr>\n",
       "      <th>2014-09-11 02:00:00</th>\n",
       "      <td>310</td>\n",
       "      <td>317.505859</td>\n",
       "    </tr>\n",
       "    <tr>\n",
       "      <th>2014-09-11 03:00:00</th>\n",
       "      <td>298</td>\n",
       "      <td>297.994781</td>\n",
       "    </tr>\n",
       "    <tr>\n",
       "      <th>2014-09-11 04:00:00</th>\n",
       "      <td>204</td>\n",
       "      <td>319.183960</td>\n",
       "    </tr>\n",
       "    <tr>\n",
       "      <th>2014-09-11 05:00:00</th>\n",
       "      <td>176</td>\n",
       "      <td>361.900085</td>\n",
       "    </tr>\n",
       "    <tr>\n",
       "      <th>...</th>\n",
       "      <td>...</td>\n",
       "      <td>...</td>\n",
       "    </tr>\n",
       "    <tr>\n",
       "      <th>2014-09-15 18:00:00</th>\n",
       "      <td>618</td>\n",
       "      <td>644.213623</td>\n",
       "    </tr>\n",
       "    <tr>\n",
       "      <th>2014-09-15 19:00:00</th>\n",
       "      <td>634</td>\n",
       "      <td>628.285522</td>\n",
       "    </tr>\n",
       "    <tr>\n",
       "      <th>2014-09-15 20:00:00</th>\n",
       "      <td>570</td>\n",
       "      <td>570.310852</td>\n",
       "    </tr>\n",
       "    <tr>\n",
       "      <th>2014-09-15 21:00:00</th>\n",
       "      <td>536</td>\n",
       "      <td>484.004211</td>\n",
       "    </tr>\n",
       "    <tr>\n",
       "      <th>2014-09-15 22:00:00</th>\n",
       "      <td>566</td>\n",
       "      <td>401.669159</td>\n",
       "    </tr>\n",
       "    <tr>\n",
       "      <th>2014-09-15 23:00:00</th>\n",
       "      <td>562</td>\n",
       "      <td>336.694489</td>\n",
       "    </tr>\n",
       "    <tr>\n",
       "      <th>2014-09-16 00:00:00</th>\n",
       "      <td>520</td>\n",
       "      <td>308.194122</td>\n",
       "    </tr>\n",
       "    <tr>\n",
       "      <th>2014-09-16 01:00:00</th>\n",
       "      <td>364</td>\n",
       "      <td>323.550415</td>\n",
       "    </tr>\n",
       "    <tr>\n",
       "      <th>2014-09-16 02:00:00</th>\n",
       "      <td>342</td>\n",
       "      <td>364.881348</td>\n",
       "    </tr>\n",
       "    <tr>\n",
       "      <th>2014-09-16 03:00:00</th>\n",
       "      <td>238</td>\n",
       "      <td>409.326660</td>\n",
       "    </tr>\n",
       "    <tr>\n",
       "      <th>2014-09-16 04:00:00</th>\n",
       "      <td>246</td>\n",
       "      <td>461.204712</td>\n",
       "    </tr>\n",
       "    <tr>\n",
       "      <th>2014-09-16 05:00:00</th>\n",
       "      <td>214</td>\n",
       "      <td>553.031189</td>\n",
       "    </tr>\n",
       "    <tr>\n",
       "      <th>2014-09-16 06:00:00</th>\n",
       "      <td>178</td>\n",
       "      <td>775.283752</td>\n",
       "    </tr>\n",
       "    <tr>\n",
       "      <th>2014-09-16 07:00:00</th>\n",
       "      <td>282</td>\n",
       "      <td>820.923523</td>\n",
       "    </tr>\n",
       "    <tr>\n",
       "      <th>2014-09-16 08:00:00</th>\n",
       "      <td>300</td>\n",
       "      <td>767.132019</td>\n",
       "    </tr>\n",
       "    <tr>\n",
       "      <th>2014-09-16 09:00:00</th>\n",
       "      <td>678</td>\n",
       "      <td>660.190613</td>\n",
       "    </tr>\n",
       "    <tr>\n",
       "      <th>2014-09-16 10:00:00</th>\n",
       "      <td>1166</td>\n",
       "      <td>707.549438</td>\n",
       "    </tr>\n",
       "    <tr>\n",
       "      <th>2014-09-16 11:00:00</th>\n",
       "      <td>1068</td>\n",
       "      <td>682.590637</td>\n",
       "    </tr>\n",
       "    <tr>\n",
       "      <th>2014-09-16 12:00:00</th>\n",
       "      <td>1038</td>\n",
       "      <td>667.779785</td>\n",
       "    </tr>\n",
       "    <tr>\n",
       "      <th>2014-09-16 13:00:00</th>\n",
       "      <td>898</td>\n",
       "      <td>713.250061</td>\n",
       "    </tr>\n",
       "    <tr>\n",
       "      <th>2014-09-16 14:00:00</th>\n",
       "      <td>906</td>\n",
       "      <td>726.754517</td>\n",
       "    </tr>\n",
       "    <tr>\n",
       "      <th>2014-09-16 15:00:00</th>\n",
       "      <td>962</td>\n",
       "      <td>696.777954</td>\n",
       "    </tr>\n",
       "    <tr>\n",
       "      <th>2014-09-16 16:00:00</th>\n",
       "      <td>900</td>\n",
       "      <td>666.911011</td>\n",
       "    </tr>\n",
       "    <tr>\n",
       "      <th>2014-09-16 17:00:00</th>\n",
       "      <td>956</td>\n",
       "      <td>649.417603</td>\n",
       "    </tr>\n",
       "    <tr>\n",
       "      <th>2014-09-16 18:00:00</th>\n",
       "      <td>974</td>\n",
       "      <td>639.955811</td>\n",
       "    </tr>\n",
       "    <tr>\n",
       "      <th>2014-09-16 19:00:00</th>\n",
       "      <td>946</td>\n",
       "      <td>603.803833</td>\n",
       "    </tr>\n",
       "    <tr>\n",
       "      <th>2014-09-16 20:00:00</th>\n",
       "      <td>770</td>\n",
       "      <td>527.111389</td>\n",
       "    </tr>\n",
       "    <tr>\n",
       "      <th>2014-09-16 21:00:00</th>\n",
       "      <td>748</td>\n",
       "      <td>441.940643</td>\n",
       "    </tr>\n",
       "    <tr>\n",
       "      <th>2014-09-16 22:00:00</th>\n",
       "      <td>694</td>\n",
       "      <td>364.346771</td>\n",
       "    </tr>\n",
       "    <tr>\n",
       "      <th>2014-09-16 23:00:00</th>\n",
       "      <td>692</td>\n",
       "      <td>312.954529</td>\n",
       "    </tr>\n",
       "  </tbody>\n",
       "</table>\n",
       "<p>168 rows × 2 columns</p>\n",
       "</div>"
      ],
      "text/plain": [
       "                     Count   generated\n",
       "Datetime                              \n",
       "2014-09-10 00:00:00    456  516.927490\n",
       "2014-09-10 01:00:00    374  425.700714\n",
       "2014-09-10 02:00:00    308  353.440826\n",
       "2014-09-10 03:00:00    198  307.559052\n",
       "2014-09-10 04:00:00    194  305.881287\n",
       "2014-09-10 05:00:00    198  339.171875\n",
       "2014-09-10 06:00:00    184  383.825958\n",
       "2014-09-10 07:00:00    256  430.207062\n",
       "2014-09-10 08:00:00    314  498.120453\n",
       "2014-09-10 09:00:00    364  676.125610\n",
       "2014-09-10 10:00:00    736  816.230469\n",
       "2014-09-10 11:00:00    652  787.335205\n",
       "2014-09-10 12:00:00    680  659.175842\n",
       "2014-09-10 13:00:00    580  702.450439\n",
       "2014-09-10 14:00:00    606  681.620239\n",
       "2014-09-10 15:00:00    562  664.386414\n",
       "2014-09-10 16:00:00    616  690.558044\n",
       "2014-09-10 17:00:00    598  714.815308\n",
       "2014-09-10 18:00:00    676  697.799683\n",
       "2014-09-10 19:00:00    690  662.812256\n",
       "2014-09-10 20:00:00    648  642.822449\n",
       "2014-09-10 21:00:00    612  630.509460\n",
       "2014-09-10 22:00:00    538  606.390808\n",
       "2014-09-10 23:00:00    552  540.756958\n",
       "2014-09-11 00:00:00    480  455.742737\n",
       "2014-09-11 01:00:00    368  376.075867\n",
       "2014-09-11 02:00:00    310  317.505859\n",
       "2014-09-11 03:00:00    298  297.994781\n",
       "2014-09-11 04:00:00    204  319.183960\n",
       "2014-09-11 05:00:00    176  361.900085\n",
       "...                    ...         ...\n",
       "2014-09-15 18:00:00    618  644.213623\n",
       "2014-09-15 19:00:00    634  628.285522\n",
       "2014-09-15 20:00:00    570  570.310852\n",
       "2014-09-15 21:00:00    536  484.004211\n",
       "2014-09-15 22:00:00    566  401.669159\n",
       "2014-09-15 23:00:00    562  336.694489\n",
       "2014-09-16 00:00:00    520  308.194122\n",
       "2014-09-16 01:00:00    364  323.550415\n",
       "2014-09-16 02:00:00    342  364.881348\n",
       "2014-09-16 03:00:00    238  409.326660\n",
       "2014-09-16 04:00:00    246  461.204712\n",
       "2014-09-16 05:00:00    214  553.031189\n",
       "2014-09-16 06:00:00    178  775.283752\n",
       "2014-09-16 07:00:00    282  820.923523\n",
       "2014-09-16 08:00:00    300  767.132019\n",
       "2014-09-16 09:00:00    678  660.190613\n",
       "2014-09-16 10:00:00   1166  707.549438\n",
       "2014-09-16 11:00:00   1068  682.590637\n",
       "2014-09-16 12:00:00   1038  667.779785\n",
       "2014-09-16 13:00:00    898  713.250061\n",
       "2014-09-16 14:00:00    906  726.754517\n",
       "2014-09-16 15:00:00    962  696.777954\n",
       "2014-09-16 16:00:00    900  666.911011\n",
       "2014-09-16 17:00:00    956  649.417603\n",
       "2014-09-16 18:00:00    974  639.955811\n",
       "2014-09-16 19:00:00    946  603.803833\n",
       "2014-09-16 20:00:00    770  527.111389\n",
       "2014-09-16 21:00:00    748  441.940643\n",
       "2014-09-16 22:00:00    694  364.346771\n",
       "2014-09-16 23:00:00    692  312.954529\n",
       "\n",
       "[168 rows x 2 columns]"
      ]
     },
     "execution_count": 79,
     "metadata": {},
     "output_type": "execute_result"
    }
   ],
   "source": [
    "test2"
   ]
  },
  {
   "cell_type": "code",
   "execution_count": 80,
   "metadata": {},
   "outputs": [
    {
     "data": {
      "text/plain": [
       "<matplotlib.axes._subplots.AxesSubplot at 0x286be28a048>"
      ]
     },
     "execution_count": 80,
     "metadata": {},
     "output_type": "execute_result"
    },
    {
     "data": {
      "image/png": "[encoded data removed]",
      "text/plain": [
       "<matplotlib.figure.Figure at 0x286be28ada0>"
      ]
     },
     "metadata": {},
     "output_type": "display_data"
    }
   ],
   "source": [
    "test2.plot()"
   ]
  },
  {
   "cell_type": "code",
   "execution_count": 81,
   "metadata": {},
   "outputs": [
    {
     "name": "stdout",
     "output_type": "stream",
     "text": [
      "277.834585246\n"
     ]
    }
   ],
   "source": [
    "with tf.Session() as sess:\n",
    "    print(sess.run(tf.sqrt(tf.reduce_mean(tf.square(test2['Count'] - test2['generated'])))))"
   ]
  },
  {
   "cell_type": "code",
   "execution_count": null,
   "metadata": {},
   "outputs": [],
   "source": []
  },
  {
   "cell_type": "code",
   "execution_count": 82,
   "metadata": {},
   "outputs": [],
   "source": [
    "dateparse = lambda x: pd.datetime.strptime(x, '%d-%m-%Y %H:%M')\n",
    "tdf = pd.read_csv(\"Test.csv\", parse_dates=['Datetime'], index_col='Datetime', date_parser=dateparse)"
   ]
  },
  {
   "cell_type": "code",
   "execution_count": null,
   "metadata": {},
   "outputs": [],
   "source": [
    "num_test_iter = 5112"
   ]
  },
  {
   "cell_type": "code",
   "execution_count": null,
   "metadata": {},
   "outputs": [
    {
     "name": "stdout",
     "output_type": "stream",
     "text": [
      "INFO:tensorflow:Restoring parameters from ./avtimeseries\n"
     ]
    }
   ],
   "source": [
    "with tf.Session() as sess:\n",
    "    \n",
    "    saver.restore(sess,\"./avtimeseries\")\n",
    "    \n",
    "    t_inst1 = list(test_scaled[-num_steps:])\n",
    "    \n",
    "    for i in range(num_test_iter):\n",
    "        \n",
    "        x_batch = np.array(t_inst1[-num_steps:]).reshape(1, num_steps, 1)\n",
    "        y_pred = sess.run(output, feed_dict={X:x_batch})\n",
    "       \n",
    "        \n",
    "        t_inst1.append(y_pred[0,-1,0])\n",
    "        "
   ]
  },
  {
   "cell_type": "code",
   "execution_count": null,
   "metadata": {},
   "outputs": [],
   "source": [
    "resulttest = scaler.inverse_transform(np.array(t_inst1[num_steps:]).reshape(num_test_iter,1))"
   ]
  },
  {
   "cell_type": "code",
   "execution_count": null,
   "metadata": {},
   "outputs": [],
   "source": [
    "resulttest"
   ]
  },
  {
   "cell_type": "code",
   "execution_count": null,
   "metadata": {},
   "outputs": [],
   "source": [
    "tdf['Count'] = resulttest"
   ]
  },
  {
   "cell_type": "code",
   "execution_count": null,
   "metadata": {},
   "outputs": [],
   "source": [
    "tdf.head(20)"
   ]
  },
  {
   "cell_type": "code",
   "execution_count": null,
   "metadata": {},
   "outputs": [],
   "source": [
    "tdf.to_csv(\"./sub.csv\")"
   ]
  },
  {
   "cell_type": "code",
   "execution_count": null,
   "metadata": {},
   "outputs": [],
   "source": []
  }
 ],
 "metadata": {
  "kernelspec": {
   "display_name": "Python 3",
   "language": "python",
   "name": "python3"
  },
  "language_info": {
   "codemirror_mode": {
    "name": "ipython",
    "version": 3
   },
   "file_extension": ".py",
   "mimetype": "text/x-python",
   "name": "python",
   "nbconvert_exporter": "python",
   "pygments_lexer": "ipython3",
   "version": "3.6.3"
  }
 },
 "nbformat": 4,
 "nbformat_minor": 2
}
